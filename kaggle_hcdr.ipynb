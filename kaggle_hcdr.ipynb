{
 "cells": [
  {
   "cell_type": "markdown",
   "metadata": {},
   "source": [
    "Read in the data"
   ]
  },
  {
   "cell_type": "code",
   "execution_count": 44,
   "metadata": {},
   "outputs": [],
   "source": [
    "import pandas as pd\n",
    "\n",
    "app_train = pd.get_dummies(pd.read_csv(\"data/application_train.csv\"))\n",
    "app_test = pd.read_csv(\"data/application_test.csv\")"
   ]
  },
  {
   "cell_type": "markdown",
   "metadata": {},
   "source": [
    "Inspect the data\n",
    "\n",
    "For labels, negative samples = paid on time and positive = had problems paying on time"
   ]
  },
  {
   "cell_type": "code",
   "execution_count": 45,
   "metadata": {},
   "outputs": [
    {
     "name": "stdout",
     "output_type": "stream",
     "text": [
      "Numer of Positive samples in training set:  24825\n",
      "Numer of Negative samples in training set:  282686\n",
      "% Positive samples: 8.07288\n",
      "% Negative samples: 91.92712\n"
     ]
    }
   ],
   "source": [
    "#print(app_train.columns.values)\n",
    "nr_pos = len(app_train.loc[app_train['TARGET'] == 1])\n",
    "nr_neg = len(app_train.loc[app_train['TARGET'] == 0])\n",
    "nr_tot = nr_pos + nr_neg\n",
    "\n",
    "print(\"Numer of Positive samples in training set: \", nr_pos)\n",
    "print(\"Numer of Negative samples in training set: \", nr_neg)\n",
    "print(\"% Positive samples: {:.5f}\".format(100 * nr_pos / nr_tot))\n",
    "print(\"% Negative samples: {:.5f}\".format(100 * nr_neg / nr_tot))"
   ]
  },
  {
   "cell_type": "code",
   "execution_count": null,
   "metadata": {},
   "outputs": [],
   "source": []
  }
 ],
 "metadata": {
  "kernelspec": {
   "display_name": "Python 3",
   "language": "python",
   "name": "python3"
  },
  "language_info": {
   "codemirror_mode": {
    "name": "ipython",
    "version": 3
   },
   "file_extension": ".py",
   "mimetype": "text/x-python",
   "name": "python",
   "nbconvert_exporter": "python",
   "pygments_lexer": "ipython3",
   "version": "3.6.6"
  }
 },
 "nbformat": 4,
 "nbformat_minor": 2
}
